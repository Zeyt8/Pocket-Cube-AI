{
 "cells": [
  {
   "cell_type": "code",
   "execution_count": null,
   "metadata": {},
   "outputs": [],
   "source": [
    "from pocket_cube.cube import Cube\n",
    "from pocket_cube.cube import Move\n",
    "import tests\n",
    "import numpy as np\n",
    "from heapq import heappush, heappop\n",
    "\n",
    "%matplotlib notebook\n",
    ""
   ]
  },
  {
   "cell_type": "markdown",
   "metadata": {},
   "source": [
    " # Tests"
   ]
  },
  {
   "cell_type": "code",
   "execution_count": null,
   "metadata": {},
   "outputs": [],
   "source": [
    "from typing import Callable\n",
    "\n",
    "test_list = [tests.case1, tests.case2, tests.case3, tests.case4]\n",
    "test_list = list(map(lambda t: list(map(Move.from_str, t.split(\" \"))), test_list))\n",
    "def test(algorithm: Callable[[Cube], list[Move]], tests: list[list[Move]]) -> bool:\n",
    "    for idx, test in enumerate(tests):\n",
    "        cube: Cube = Cube(test)\n",
    "        path: list[Move] = algorithm(cube)\n",
    "        for move in path:\n",
    "            cube = cube.move(move)\n",
    "        if not is_solved(cube):\n",
    "            print(f\"Test {idx} failed\")\n",
    "        else:\n",
    "            print(f\"Test {idx} passed\")"
   ]
  },
  {
   "cell_type": "markdown",
   "metadata": {},
   "source": [
    " # A*"
   ]
  },
  {
   "cell_type": "code",
   "execution_count": null,
   "metadata": {},
   "outputs": [],
   "source": [
    "FrontierItem = tuple[int, str, Cube]\n",
    "DiscoveredDict = dict[str, tuple[str, Move, int]]"
   ]
  },
  {
   "cell_type": "code",
   "execution_count": null,
   "metadata": {},
   "outputs": [],
   "source": [
    "def is_solved(cube: Cube) -> bool:\n",
    "    for i in range(len(cube.state)):\n",
    "        if cube.state[i] != cube.goal_state[i]:\n",
    "            return False\n",
    "    return True"
   ]
  },
  {
   "cell_type": "code",
   "execution_count": null,
   "metadata": {},
   "outputs": [],
   "source": [
    "def get_neighbors(cube: Cube) -> list[tuple[Cube, Move]]:\n",
    "    return [(cube.move(move), move) for move in Move]"
   ]
  },
  {
   "cell_type": "code",
   "execution_count": null,
   "metadata": {},
   "outputs": [],
   "source": [
    "def heuristic(cube: Cube) -> int:\n",
    "    return np.sum(cube.state != cube.goal_state)"
   ]
  },
  {
   "cell_type": "code",
   "execution_count": null,
   "metadata": {},
   "outputs": [],
   "source": [
    "def get_path(cube_hash: str, discovered: DiscoveredDict) -> list[Move]:\n",
    "    path: list[Move] = []\n",
    "    currentNode = discovered[cube_hash]\n",
    "    while currentNode[0] is not None:\n",
    "        path.append(currentNode[1])\n",
    "        currentNode = discovered[currentNode[0]]\n",
    "    path.reverse()\n",
    "    return path"
   ]
  },
  {
   "cell_type": "code",
   "execution_count": null,
   "metadata": {},
   "outputs": [],
   "source": [
    "def a_star(cube: Cube) -> list[Move]:\n",
    "    # initialize with cube\n",
    "    frontier: list[FrontierItem] = []\n",
    "    heappush(frontier, (0 + heuristic(cube), cube.hash(), cube.clone()))\n",
    "    discovered: DiscoveredDict = {cube.hash(): (None, None, 0)}\n",
    "    # search\n",
    "    while frontier:\n",
    "        currentCube: Cube = heappop(frontier)[2]\n",
    "        if is_solved(currentCube):\n",
    "            break\n",
    "        for (neighbor, move) in get_neighbors(currentCube):\n",
    "            score: int = discovered[currentCube.hash()][2] + 1\n",
    "            if neighbor.hash() not in discovered or score < discovered[neighbor.hash()][2]:\n",
    "                discovered[neighbor.hash()] = (currentCube.hash(), move, score)\n",
    "                node: FrontierItem = (score + heuristic(neighbor), neighbor.hash(), neighbor.clone())\n",
    "                heappush(frontier, node)\n",
    "    # get path\n",
    "    return get_path(currentCube.hash(), discovered)"
   ]
  },
  {
   "cell_type": "markdown",
   "metadata": {},
   "source": [
    " # Test A*"
   ]
  },
  {
   "cell_type": "code",
   "execution_count": null,
   "metadata": {},
   "outputs": [],
   "source": [
    "test(a_star, test_list)"
   ]
  },
  {
   "cell_type": "markdown",
   "metadata": {},
   "source": [
    " # Bidirectional BFS"
   ]
  },
  {
   "cell_type": "code",
   "execution_count": null,
   "metadata": {},
   "outputs": [],
   "source": [
    "def met_in_the_middle(cubes1: DiscoveredDict, cubes2: DiscoveredDict) -> str:\n",
    "    for key in cubes1:\n",
    "        if key in cubes2:\n",
    "            return key\n",
    "    return None"
   ]
  },
  {
   "cell_type": "code",
   "execution_count": null,
   "metadata": {},
   "outputs": [],
   "source": [
    "from collections import deque\n",
    "\n",
    "def bidirectional_bfs(cube: Cube) -> list[Move]:\n",
    "    frontiers: list[deque[Cube]] = [deque(), deque()]\n",
    "    frontiers[0].append(cube)\n",
    "\n",
    "    solved_cube = cube.clone()\n",
    "    solved_cube.state = solved_cube.goal_state\n",
    "    frontiers[1].append(solved_cube)\n",
    "    discovereds: list[DiscoveredDict] = [{cube.hash(): (None, None, 0)}, {solved_cube.hash(): (None, None, 0)}]\n",
    "\n",
    "    while frontiers[0] and frontiers[1]:\n",
    "        met_cube_key: str = met_in_the_middle(discovereds[0], discovereds[1])\n",
    "        if met_cube_key is not None:\n",
    "            break\n",
    "        currentCubes: tuple[Cube] = (frontiers[0].popleft(), frontiers[1].popleft())\n",
    "        for i in range(2):\n",
    "            for (neighbor, move) in get_neighbors(currentCubes[i]):\n",
    "                score: int = discovereds[i][currentCubes[i].hash()][2] + 1\n",
    "                if neighbor.hash() not in discovereds[i] or score < discovereds[i][neighbor.hash()][2]:\n",
    "                    discovereds[i][neighbor.hash()] = (currentCubes[i].hash(), move, score)\n",
    "                    frontiers[i].append(neighbor)\n",
    "    path1: list[Move] = get_path(met_cube_key, discovereds[0])\n",
    "    path2: list[Move] = get_path(met_cube_key, discovereds[1])\n",
    "    path2.reverse()\n",
    "    path2 = list(map(Move.opposite, path2))\n",
    "    return path1 + path2"
   ]
  },
  {
   "cell_type": "markdown",
   "metadata": {},
   "source": [
    " # Test Bidirectional BFS"
   ]
  },
  {
   "cell_type": "code",
   "execution_count": null,
   "metadata": {},
   "outputs": [],
   "source": [
    "test(bidirectional_bfs, test_list)"
   ]
  },
  {
   "cell_type": "markdown",
   "metadata": {},
   "source": [
    " # MTCS with UCB"
   ]
  },
  {
   "cell_type": "code",
   "execution_count": null,
   "metadata": {},
   "outputs": [],
   "source": [
    "N = \"N\"\n",
    "Q = \"Q\"\n",
    "PARENT = \"PARENT\"\n",
    "MOVE = \"MOVE\"\n",
    "CHILDREN = \"CHILDREN\"\n",
    "Node = dict[int, int, Cube, dict[Move, Cube]]\n",
    "def init_node(parent = None) -> Node:\n",
    "    return {N: 0, Q: 0, PARENT: parent, CHILDREN: {}}"
   ]
  },
  {
   "cell_type": "code",
   "execution_count": null,
   "metadata": {},
   "outputs": [],
   "source": [
    "from math import sqrt, log\n",
    "\n",
    "def select_move(node: Node, c) -> Move:\n",
    "    N_node = node[N]\n",
    "    max_move: Move = None\n",
    "    max_expr: float = float('-inf')\n",
    "    for move in node[CHILDREN]:\n",
    "        child = node[CHILDREN][move]\n",
    "        expr = child[Q] / child[N] + c * sqrt(log(N_node) / child[N])\n",
    "        if expr > max_expr:\n",
    "            max_expr = expr\n",
    "            max_move = move\n",
    "    return max_move"
   ]
  },
  {
   "cell_type": "code",
   "execution_count": null,
   "metadata": {},
   "outputs": [],
   "source": [
    "def hamming_heuristic(cube: Cube) -> int:\n",
    "    return np.sum(cube.state == cube.goal_state)"
   ]
  },
  {
   "cell_type": "code",
   "execution_count": null,
   "metadata": {},
   "outputs": [],
   "source": [
    "def manhattan_heuristic2(cube: Cube) -> int:\n",
    "    return 0"
   ]
  },
  {
   "cell_type": "code",
   "execution_count": null,
   "metadata": {},
   "outputs": [],
   "source": [
    "from random import choice\n",
    "\n",
    "def mcts(cube0: Cube, budget: int, tree: Node, cp: float, heuristic: Callable[[Cube], int]) -> Node:\n",
    "    if not tree:\n",
    "        tree = init_node()\n",
    "    for _ in range(budget):\n",
    "        cube = cube0\n",
    "        node = tree\n",
    "        # go down the tree until a final state or an unexplored move is found\n",
    "        while not is_solved(cube) and not any([move not in node[CHILDREN] for move in Move]):\n",
    "            move: Move = select_move(node, cp)\n",
    "            cube = cube.move(move)\n",
    "            node = node[CHILDREN][move]\n",
    "        # if node is not final and not every move has been explored, create a new node\n",
    "        if not is_solved(cube):\n",
    "            new_node: Node = init_node(node)\n",
    "            move: Move = choice([move for move in Move if move not in node[CHILDREN]])\n",
    "            node[CHILDREN][move] = new_node\n",
    "            cube = cube.move(move)\n",
    "            node = new_node\n",
    "        # simulate a random game\n",
    "        max_moves: int = 14\n",
    "        max_h: int = 0\n",
    "        while not is_solved(cube) and max_moves > 0:\n",
    "            new_node: Node = init_node(node)\n",
    "            move: Move = choice([move for move in Move])\n",
    "            node[CHILDREN][move] = new_node\n",
    "            cube = cube.move(move)\n",
    "            node = new_node\n",
    "            max_h = max(max_h, heuristic(cube))\n",
    "            max_moves -= 1\n",
    "        while node:\n",
    "            node[N] += 1\n",
    "            node[Q] += max_h\n",
    "            node = node[PARENT]\n",
    "    return tree\n",
    "\n",
    "def play_mtcs(cube: Cube, budget: int, cp: float, heuristic: Callable[[Cube], int]) -> list[Move]:\n",
    "    tree: Node = mcts(cube, budget, None, cp, heuristic)\n",
    "    node: Node = tree\n",
    "    path: list[Move] = []\n",
    "    while node and node[CHILDREN]:\n",
    "        move: Move = select_move(node, 0)\n",
    "        node = node[CHILDREN][move]\n",
    "        path.append(move)\n",
    "    return path"
   ]
  },
  {
   "cell_type": "markdown",
   "metadata": {},
   "source": [
    " # Test MTCS"
   ]
  },
  {
   "cell_type": "code",
   "execution_count": null,
   "metadata": {},
   "outputs": [],
   "source": [
    ""
   ]
  }
 ],
 "nbformat": 4,
 "nbformat_minor": 2,
 "metadata": {
  "language_info": {
   "codemirror_mode": {
    "name": "ipython",
    "version": 3
   },
   "file_extension": ".py",
   "mimetype": "text/x-python",
   "name": "python",
   "nbconvert_exporter": "python",
   "pygments_lexer": "ipython3",
   "version": 3
  }
 }
}