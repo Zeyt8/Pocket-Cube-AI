{
 "cells": [
  {
   "cell_type": "code",
   "execution_count": null,
   "metadata": {},
   "outputs": [],
   "source": [
    "from pocket_cube.cube import Cube\n",
    "from pocket_cube.cube import Move\n",
    "from tests import test_list, test, is_solved\n",
    "from heuristics import hamming, inverse_hamming, blocked_hamming, blocked_inverse_hamming, manhattan, inverse_manhattan\n",
    "from utils import get_neighbors, get_path, met_in_the_middle, FrontierItem, DiscoveredDict\n",
    "\n",
    "from heapq import heappush, heappop\n",
    "from typing import Callable\n",
    "\n",
    "%matplotlib notebook\n",
    ""
   ]
  },
  {
   "cell_type": "code",
   "execution_count": null,
   "metadata": {},
   "outputs": [],
   "source": [
    "# A*\n",
    "def a_star(cube: Cube) -> (list[Move], int):\n",
    "    # initialize with cube\n",
    "    frontier: list[FrontierItem] = []\n",
    "    heappush(frontier, (0 + manhattan(cube), cube.hash(), cube.clone()))\n",
    "    discovered: DiscoveredDict = {cube.hash(): (None, None, 0)}\n",
    "    # search\n",
    "    while frontier:\n",
    "        currentCube: Cube = heappop(frontier)[2]\n",
    "        if is_solved(currentCube):\n",
    "            break\n",
    "        for (neighbor, move) in get_neighbors(currentCube):\n",
    "            score: int = discovered[currentCube.hash()][2] + 1\n",
    "            if neighbor.hash() not in discovered or score < discovered[neighbor.hash()][2]:\n",
    "                discovered[neighbor.hash()] = (currentCube.hash(), move, score)\n",
    "                node: FrontierItem = (score + manhattan(neighbor), neighbor.hash(), neighbor.clone())\n",
    "                heappush(frontier, node)\n",
    "    # get path\n",
    "    return (get_path(currentCube.hash(), discovered), len(discovered))"
   ]
  },
  {
   "cell_type": "code",
   "execution_count": null,
   "metadata": {},
   "outputs": [],
   "source": [
    "# Test A*\n",
    "test(a_star, test_list)"
   ]
  },
  {
   "cell_type": "code",
   "execution_count": null,
   "metadata": {},
   "outputs": [],
   "source": [
    "# Bidirectional BFS\n",
    "from collections import deque\n",
    "\n",
    "def bidirectional_bfs(cube: Cube) -> (list[Move], int):\n",
    "    frontiers: list[deque[Cube]] = [deque(), deque()]\n",
    "    frontiers[0].append(cube)\n",
    "\n",
    "    solved_cube = cube.clone()\n",
    "    solved_cube.state = solved_cube.goal_state\n",
    "    frontiers[1].append(solved_cube)\n",
    "    discovereds: list[DiscoveredDict] = [{cube.hash(): (None, None, 0)}, {solved_cube.hash(): (None, None, 0)}]\n",
    "\n",
    "    while frontiers[0] and frontiers[1]:\n",
    "        met_cube_key: str = met_in_the_middle(discovereds[0], discovereds[1])\n",
    "        if met_cube_key is not None:\n",
    "            break\n",
    "        currentCubes: tuple[Cube] = (frontiers[0].popleft(), frontiers[1].popleft())\n",
    "        for i in range(2):\n",
    "            for (neighbor, move) in get_neighbors(currentCubes[i]):\n",
    "                score: int = discovereds[i][currentCubes[i].hash()][2] + 1\n",
    "                if neighbor.hash() not in discovereds[i] or score < discovereds[i][neighbor.hash()][2]:\n",
    "                    discovereds[i][neighbor.hash()] = (currentCubes[i].hash(), move, score)\n",
    "                    frontiers[i].append(neighbor)\n",
    "    path1: list[Move] = get_path(met_cube_key, discovereds[0])\n",
    "    path2: list[Move] = get_path(met_cube_key, discovereds[1])\n",
    "    path2.reverse()\n",
    "    path2 = list(map(Move.opposite, path2))\n",
    "    return (path1 + path2, len(discovereds[0]) + len(discovereds[1]))"
   ]
  },
  {
   "cell_type": "code",
   "execution_count": null,
   "metadata": {},
   "outputs": [],
   "source": [
    "# Test Bidirectional BFS\n",
    "test(bidirectional_bfs, test_list)"
   ]
  },
  {
   "cell_type": "code",
   "execution_count": null,
   "metadata": {},
   "outputs": [],
   "source": [
    "# # MTCS with UCB\n",
    "N = \"N\"\n",
    "Q = \"Q\"\n",
    "PARENT = \"PARENT\"\n",
    "MOVE = \"MOVE\"\n",
    "CHILDREN = \"CHILDREN\"\n",
    "Node = dict[int, int, Cube, dict[Move, Cube]]\n",
    "def init_node(parent = None) -> Node:\n",
    "    return {N: 0, Q: 0, PARENT: parent, CHILDREN: {}}"
   ]
  },
  {
   "cell_type": "code",
   "execution_count": null,
   "metadata": {},
   "outputs": [],
   "source": [
    "from math import sqrt, log\n",
    "\n",
    "def select_move(node: Node, c) -> Move:\n",
    "    N_node = node[N]\n",
    "    max_move: Move = None\n",
    "    max_expr: float = float('-inf')\n",
    "    for move in node[CHILDREN]:\n",
    "        child = node[CHILDREN][move]\n",
    "        expr = child[Q] / child[N] + c * sqrt(log(N_node) / child[N])\n",
    "        if expr > max_expr:\n",
    "            max_expr = expr\n",
    "            max_move = move\n",
    "    return max_move"
   ]
  },
  {
   "cell_type": "code",
   "execution_count": null,
   "metadata": {},
   "outputs": [],
   "source": [
    "from random import choice\n",
    "\n",
    "def mcts(cube0: Cube, budget: int, tree: Node, cp: float, heuristic: Callable[[Cube], int]) -> Node:\n",
    "    states_visited: int = 0\n",
    "    if not tree:\n",
    "        tree = init_node()\n",
    "    for _ in range(budget):\n",
    "        cube = cube0\n",
    "        node = tree\n",
    "        # go down the tree until a final state or an unexplored move is found\n",
    "        while not is_solved(cube) and not any([move not in node[CHILDREN] for move in Move]):\n",
    "            move: Move = select_move(node, cp)\n",
    "            cube = cube.move(move)\n",
    "            node = node[CHILDREN][move]\n",
    "        # if node is not final and not every move has been explored, create a new node\n",
    "        if not is_solved(cube):\n",
    "            new_node: Node = init_node(node)\n",
    "            move: Move = choice([move for move in Move if move not in node[CHILDREN]])\n",
    "            node[CHILDREN][move] = new_node\n",
    "            cube = cube.move(move)\n",
    "            node = new_node\n",
    "            states_visited += 1\n",
    "        # simulate a random game\n",
    "        max_moves: int = 14\n",
    "        max_h: int = 0\n",
    "        while not is_solved(cube) and max_moves > 0:\n",
    "            new_node: Node = init_node(node)\n",
    "            move: Move = choice([move for move in Move])\n",
    "            node[CHILDREN][move] = new_node\n",
    "            cube = cube.move(move)\n",
    "            node = new_node\n",
    "            max_h = max(max_h, heuristic(cube))\n",
    "            max_moves -= 1\n",
    "            states_visited += 1\n",
    "        while node:\n",
    "            node[N] += 1\n",
    "            node[Q] += max_h\n",
    "            node = node[PARENT]\n",
    "    return (tree, states_visited)\n",
    "\n",
    "def play_mtcs(cube: Cube, budget: int, cp: float, heuristic: Callable[[Cube], int]) -> (list[Move], int):\n",
    "    (tree, states) = mcts(cube, budget, None, cp, heuristic)\n",
    "    node: Node = tree\n",
    "    path: list[Move] = []\n",
    "    while node and node[CHILDREN]:\n",
    "        move: Move = select_move(node, 0)\n",
    "        node = node[CHILDREN][move]\n",
    "        path.append(move)\n",
    "    return (path, states)"
   ]
  },
  {
   "cell_type": "code",
   "execution_count": null,
   "metadata": {},
   "outputs": [],
   "source": [
    "# Test MTCS\n",
    "for heuristic in [inverse_manhattan, inverse_hamming]:\n",
    "    for c in [0.1, 0.5]:\n",
    "        for budget in [1000, 5000, 10000, 20000]:\n",
    "            print(f\"Heuristic: {heuristic.__name__} Budget: {budget}, c: {c}\")\n",
    "            test_results: list[list[tuple[bool, float, int, int]]] = []\n",
    "            for _ in range(0, 20):\n",
    "                test_results.append(test(lambda cube: play_mtcs(cube, budget, c, heuristic), test_list, False))\n",
    "            # compute average test result\n",
    "            for i in range(len(test_list)):\n",
    "                # average for test i\n",
    "                test_result: tuple[float, int, int] = (0, 0, 0)\n",
    "                for result in test_results:\n",
    "                    test_result = (result[i][1], result[i][2], result[i][3])\n",
    "                print(f\"Test {i} average: Time: {test_result[0] / len(test_results)} seconds. States expanded: {test_result[1] / len(test_results)}. Path length: {test_result[2] / len(test_results)}\")"
   ]
  },
  {
   "cell_type": "code",
   "execution_count": null,
   "metadata": {},
   "outputs": [],
   "source": [
    ""
   ]
  }
 ],
 "nbformat": 4,
 "nbformat_minor": 2,
 "metadata": {
  "language_info": {
   "codemirror_mode": {
    "name": "ipython",
    "version": 3
   },
   "file_extension": ".py",
   "mimetype": "text/x-python",
   "name": "python",
   "nbconvert_exporter": "python",
   "pygments_lexer": "ipython3",
   "version": 3
  }
 }
}