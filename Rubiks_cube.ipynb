{
 "cells": [
  {
   "cell_type": "code",
   "execution_count": null,
   "metadata": {},
   "outputs": [],
   "source": [
    "from pocket_cube.cube import Cube\n",
    "from pocket_cube.cube import Move\n",
    "from tests import test_list, test, is_solved, TestCase, draw_graph, test_mcts\n",
    "from heuristics import hamming, blocked_hamming, manhattan, build_database, database_heuristic, is_admissible\n",
    "from utils import get_neighbors, get_path, met_in_the_middle, FrontierItem, DiscoveredDict\n",
    "\n",
    "from heapq import heappush, heappop\n",
    "from typing import Callable\n",
    "import time\n",
    ""
   ]
  },
  {
   "cell_type": "code",
   "execution_count": null,
   "metadata": {},
   "outputs": [],
   "source": [
    "# A*\n",
    "def a_star(cube: Cube, heuristic: Callable[[Cube], int]) -> (list[Move], int):\n",
    "    # initialize with cube\n",
    "    frontier: list[FrontierItem] = []\n",
    "    heappush(frontier, FrontierItem(heuristic(cube), cube))\n",
    "    discovered: DiscoveredDict = {cube.hash(): (None, None, 0)}\n",
    "    # search\n",
    "    while frontier:\n",
    "        currentCube: Cube = heappop(frontier).cube\n",
    "        if is_solved(currentCube):\n",
    "            break\n",
    "        for (neighbor, move) in get_neighbors(currentCube):\n",
    "            score: int = discovered[currentCube.hash()][2] + 1\n",
    "            if neighbor.hash() not in discovered or score < discovered[neighbor.hash()][2]:\n",
    "                discovered[neighbor.hash()] = (currentCube.hash(), move, score)\n",
    "                node: FrontierItem = FrontierItem(score + heuristic(neighbor), neighbor)\n",
    "                heappush(frontier, node)\n",
    "    # get path\n",
    "    return (get_path(currentCube.hash(), discovered), len(discovered))"
   ]
  },
  {
   "cell_type": "code",
   "execution_count": null,
   "metadata": {},
   "outputs": [],
   "source": [
    "# Test A*\n",
    "test_res_astar: list[TestCase] = test(lambda cube: a_star(cube, manhattan), test_list)\n",
    "draw_graph(test_res_astar)"
   ]
  },
  {
   "cell_type": "code",
   "execution_count": null,
   "metadata": {},
   "outputs": [],
   "source": [
    "# Bidirectional BFS\n",
    "from collections import deque\n",
    "\n",
    "def bidirectional_bfs(cube: Cube) -> (list[Move], int):\n",
    "    frontiers: list[deque[Cube]] = [deque(), deque()]\n",
    "    frontiers[0].append(cube)\n",
    "\n",
    "    solved_cube = cube.clone()\n",
    "    solved_cube.state = solved_cube.goal_state\n",
    "    frontiers[1].append(solved_cube)\n",
    "    discovereds: list[DiscoveredDict] = [{cube.hash(): (None, None, 0)}, {solved_cube.hash(): (None, None, 0)}]\n",
    "\n",
    "    while frontiers[0] and frontiers[1]:\n",
    "        met_cube_key: str = met_in_the_middle(discovereds[0], discovereds[1])\n",
    "        if met_cube_key is not None:\n",
    "            break\n",
    "        currentCubes: tuple[Cube] = (frontiers[0].popleft(), frontiers[1].popleft())\n",
    "        for i in range(2):\n",
    "            for (neighbor, move) in get_neighbors(currentCubes[i]):\n",
    "                score: int = discovereds[i][currentCubes[i].hash()][2] + 1\n",
    "                if neighbor.hash() not in discovereds[i] or score < discovereds[i][neighbor.hash()][2]:\n",
    "                    discovereds[i][neighbor.hash()] = (currentCubes[i].hash(), move, score)\n",
    "                    frontiers[i].append(neighbor)\n",
    "    path1: list[Move] = get_path(met_cube_key, discovereds[0])\n",
    "    path2: list[Move] = get_path(met_cube_key, discovereds[1])\n",
    "    path2.reverse()\n",
    "    path2 = list(map(Move.opposite, path2))\n",
    "    return (path1 + path2, len(discovereds[0]) + len(discovereds[1]))"
   ]
  },
  {
   "cell_type": "code",
   "execution_count": null,
   "metadata": {},
   "outputs": [],
   "source": [
    "# Test Bidirectional BFS\n",
    "test_res_bfs: list[TestCase] = test(bidirectional_bfs, test_list)\n",
    "draw_graph(test_res_bfs)"
   ]
  },
  {
   "cell_type": "code",
   "execution_count": null,
   "metadata": {},
   "outputs": [],
   "source": [
    "# # MTCS with UCB\n",
    "from math import sqrt, log\n",
    "\n",
    "N = \"N\"\n",
    "Q = \"Q\"\n",
    "PARENT = \"PARENT\"\n",
    "MOVE = \"MOVE\"\n",
    "CHILDREN = \"CHILDREN\"\n",
    "Node = dict[int, int, Cube, dict[Move, Cube]]\n",
    "\n",
    "def init_node(parent = None) -> Node:\n",
    "    return {N: 0, Q: 0, PARENT: parent, CHILDREN: {}}\n",
    "\n",
    "def select_move(node: Node, c) -> Move:\n",
    "    N_node = node[N]\n",
    "    max_move: Move = None\n",
    "    max_expr: float = float('-inf')\n",
    "    for move in node[CHILDREN]:\n",
    "        child = node[CHILDREN][move]\n",
    "        expr = child[Q] / child[N] + c * sqrt(log(N_node) / child[N])\n",
    "        if expr > max_expr:\n",
    "            max_expr = expr\n",
    "            max_move = move\n",
    "    return max_move"
   ]
  },
  {
   "cell_type": "code",
   "execution_count": null,
   "metadata": {},
   "outputs": [],
   "source": [
    "from random import choice\n",
    "\n",
    "def mcts(cube0: Cube, budget: int, tree: Node, cp: float, heuristic: Callable[[Cube], int]) -> Node:\n",
    "    states_visited: int = 0\n",
    "    if not tree:\n",
    "        tree = init_node()\n",
    "    for _ in range(budget):\n",
    "        cube = cube0\n",
    "        node = tree\n",
    "        # go down the tree until a final state or an unexplored move is found\n",
    "        while not is_solved(cube) and not any([move not in node[CHILDREN] for move in Move]):\n",
    "            move: Move = select_move(node, cp)\n",
    "            cube = cube.move(move)\n",
    "            node = node[CHILDREN][move]\n",
    "        # if node is not final and not every move has been explored, create a new node\n",
    "        if not is_solved(cube):\n",
    "            new_node: Node = init_node(node)\n",
    "            move: Move = choice([move for move in Move if move not in node[CHILDREN]])\n",
    "            node[CHILDREN][move] = new_node\n",
    "            cube = cube.move(move)\n",
    "            node = new_node\n",
    "            states_visited += 1\n",
    "        # simulate a random game\n",
    "        max_moves: int = 14\n",
    "        max_h: int = 0\n",
    "        while not is_solved(cube) and max_moves > 0:\n",
    "            new_node: Node = init_node(node)\n",
    "            move: Move = choice([move for move in Move])\n",
    "            node[CHILDREN][move] = new_node\n",
    "            cube = cube.move(move)\n",
    "            node = new_node\n",
    "            max_h = max(max_h, 1 / max(heuristic(cube), 0.1))\n",
    "            max_moves -= 1\n",
    "            states_visited += 1\n",
    "        while node:\n",
    "            node[N] += 1\n",
    "            node[Q] += max_h\n",
    "            node = node[PARENT]\n",
    "    return (tree, states_visited)\n",
    "\n",
    "def play_mcts(cube: Cube, budget: int, cp: float, heuristic: Callable[[Cube], int]) -> (list[Move], int):\n",
    "    (tree, states) = mcts(cube, budget, None, cp, heuristic)\n",
    "    node: Node = tree\n",
    "    path: list[Move] = []\n",
    "    while node and node[CHILDREN]:\n",
    "        move: Move = select_move(node, 0)\n",
    "        node = node[CHILDREN][move]\n",
    "        path.append(move)\n",
    "    return (path, states)"
   ]
  },
  {
   "cell_type": "code",
   "execution_count": null,
   "metadata": {},
   "outputs": [],
   "source": [
    "# Test MTCS\n",
    "test_mcts(lambda cube, budget, c, heuristic: play_mcts(cube, budget, c, heuristic), [manhattan, blocked_hamming])"
   ]
  },
  {
   "cell_type": "code",
   "execution_count": null,
   "metadata": {},
   "outputs": [],
   "source": [
    "# Build database\n",
    "start = time.time()\n",
    "database = build_database()\n",
    "end = time.time()\n",
    "print(f\"Database built in {end - start} seconds.\")"
   ]
  },
  {
   "cell_type": "code",
   "execution_count": null,
   "metadata": {},
   "outputs": [],
   "source": [
    "# Test A* with database\n",
    "test_result_astar_database: list[TestCase] = test(lambda cube: a_star(cube, lambda cube: database_heuristic(cube, database, manhattan)), test_list)\n",
    "draw_graph(test_result_astar_database)"
   ]
  },
  {
   "cell_type": "code",
   "execution_count": null,
   "metadata": {},
   "outputs": [],
   "source": [
    "# Test MTCS with database\n",
    "test_mcts(lambda cube, budget, c, heuristic: play_mcts(cube, budget, c, heuristic), lambda cube: database_heuristic(cube, database, manhattan))"
   ]
  }
 ],
 "nbformat": 4,
 "nbformat_minor": 2,
 "metadata": {
  "language_info": {
   "codemirror_mode": {
    "name": "ipython",
    "version": 3
   },
   "file_extension": ".py",
   "mimetype": "text/x-python",
   "name": "python",
   "nbconvert_exporter": "python",
   "pygments_lexer": "ipython3",
   "version": 3
  }
 }
}