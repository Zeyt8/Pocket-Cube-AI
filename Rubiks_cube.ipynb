{
 "cells": [
  {
   "cell_type": "code",
   "execution_count": null,
   "metadata": {},
   "outputs": [],
   "source": [
    "from pocket_cube.cube import Cube\n",
    "from pocket_cube.cube import Move\n",
    "import tests\n",
    "import numpy as np\n",
    "from heapq import heappush, heappop\n",
    "\n",
    "%matplotlib notebook\n",
    ""
   ]
  },
  {
   "cell_type": "markdown",
   "metadata": {},
   "source": [
    " # A*"
   ]
  },
  {
   "cell_type": "code",
   "execution_count": null,
   "metadata": {},
   "outputs": [],
   "source": [
    "def is_solved(cube: Cube) -> bool:\n",
    "    for i in range(len(cube.state)):\n",
    "        if cube.state[i] != cube.goal_state[i]:\n",
    "            return False\n",
    "    return True"
   ]
  },
  {
   "cell_type": "code",
   "execution_count": null,
   "metadata": {},
   "outputs": [],
   "source": [
    "def get_neighbors(cube: Cube) -> list[tuple[Cube, Move]]:\n",
    "    return [(cube.move(move), move) for move in Move]"
   ]
  },
  {
   "cell_type": "code",
   "execution_count": null,
   "metadata": {},
   "outputs": [],
   "source": [
    "def heuristic(cube: Cube) -> int:\n",
    "    return np.sum(cube.state != cube.goal_state)"
   ]
  },
  {
   "cell_type": "code",
   "execution_count": null,
   "metadata": {},
   "outputs": [],
   "source": [
    "def a_star(cube: Cube) -> list[Move]:\n",
    "    # initialize with cube\n",
    "    frontier: list[tuple(int, str, Cube)] = []\n",
    "    heappush(frontier, (0 + heuristic(cube), cube.hash(), cube.clone()))\n",
    "    discovered: dict[str, tuple[Cube, Move, int]] = {cube.hash(): (None, None, 0)}\n",
    "    # search\n",
    "    while frontier:\n",
    "        currentCube: Cube = heappop(frontier)[2]\n",
    "        if is_solved(currentCube):\n",
    "            break\n",
    "        for (neighbor, move) in get_neighbors(currentCube):\n",
    "            score: int = discovered[currentCube.hash()][2] + 1\n",
    "            if neighbor.hash() not in discovered or score < discovered[neighbor.hash()][2]:\n",
    "                discovered[neighbor.hash()] = (currentCube, move, score)\n",
    "                node: tuple[int, str, Cube] = (score + heuristic(neighbor), neighbor.hash(), neighbor.clone())\n",
    "                heappush(frontier, node)\n",
    "    # get path\n",
    "    path: list[Move] = []\n",
    "    currentNode = discovered[currentCube.hash()]\n",
    "    while currentNode[0] is not None:\n",
    "        path.append(currentNode[1])\n",
    "        currentNode = discovered[currentNode[0].hash()]\n",
    "    path.reverse()\n",
    "    return path"
   ]
  },
  {
   "cell_type": "code",
   "execution_count": null,
   "metadata": {},
   "outputs": [],
   "source": [
    "test_list = [tests.case1, tests.case2, tests.case3, tests.case4]\n",
    "test_list = list(map(lambda t: list(map(Move.from_str, t.split(\" \"))), test_list))\n",
    "for idx, test in enumerate(test_list):\n",
    "    cube: Cube = Cube(test)\n",
    "    path: list[Move] = a_star(cube)\n",
    "    for move in path:\n",
    "        cube = cube.move(move)\n",
    "    if not is_solved(cube):\n",
    "        print(f\"Test {idx} failed\")\n",
    "        break\n",
    "    else:\n",
    "        print(f\"Test {idx} passed\")"
   ]
  },
  {
   "cell_type": "code",
   "execution_count": null,
   "metadata": {},
   "outputs": [],
   "source": [
    ""
   ]
  }
 ],
 "nbformat": 4,
 "nbformat_minor": 2,
 "metadata": {
  "language_info": {
   "codemirror_mode": {
    "name": "ipython",
    "version": 3
   },
   "file_extension": ".py",
   "mimetype": "text/x-python",
   "name": "python",
   "nbconvert_exporter": "python",
   "pygments_lexer": "ipython3",
   "version": 3
  }
 }
}