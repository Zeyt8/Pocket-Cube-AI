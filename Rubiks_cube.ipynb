{
 "cells": [
  {
   "cell_type": "code",
   "execution_count": null,
   "metadata": {},
   "outputs": [],
   "source": [
    "from pocket_cube.cube import Cube\n",
    "from pocket_cube.cube import Move\n",
    "from tests import test_list, test, is_solved\n",
    "from heuristics import hamming, inverse_hamming, manhattan\n",
    "from utils import get_neighbors, get_path, met_in_the_middle, FrontierItem, DiscoveredDict\n",
    "\n",
    "import numpy as np\n",
    "from heapq import heappush, heappop\n",
    "from typing import Callable\n",
    "\n",
    "%matplotlib notebook\n",
    ""
   ]
  },
  {
   "cell_type": "markdown",
   "metadata": {},
   "source": [
    " # A*\n",
    " initialize with cube\n",
    " search\n",
    " get path"
   ]
  },
  {
   "cell_type": "markdown",
   "metadata": {},
   "source": [
    " # Test A*"
   ]
  },
  {
   "cell_type": "markdown",
   "metadata": {},
   "source": [
    " # Bidirectional BFS"
   ]
  },
  {
   "cell_type": "markdown",
   "metadata": {},
   "source": [
    " # Test Bidirectional BFS"
   ]
  },
  {
   "cell_type": "markdown",
   "metadata": {},
   "source": [
    " # MTCS with UCB"
   ]
  },
  {
   "cell_type": "code",
   "execution_count": null,
   "metadata": {},
   "outputs": [],
   "source": [
    "from math import sqrt, log\n",
    "\n",
    "def select_move(node: Node, c) -> Move:\n",
    "    N_node = node[N]\n",
    "    max_move: Move = None\n",
    "    max_expr: float = float('-inf')\n",
    "    for move in node[CHILDREN]:\n",
    "        child = node[CHILDREN][move]\n",
    "        expr = child[Q] / child[N] + c * sqrt(log(N_node) / child[N])\n",
    "        if expr > max_expr:\n",
    "            max_expr = expr\n",
    "            max_move = move\n",
    "    return max_move"
   ]
  },
  {
   "cell_type": "code",
   "execution_count": null,
   "metadata": {},
   "outputs": [],
   "source": [
    "from random import choice\n",
    "\n",
    "def mcts(cube0: Cube, budget: int, tree: Node, cp: float, heuristic: Callable[[Cube], int]) -> Node:\n",
    "    if not tree:\n",
    "        tree = init_node()\n",
    "    for _ in range(budget):\n",
    "        cube = cube0\n",
    "        node = tree\n",
    "        # go down the tree until a final state or an unexplored move is found\n",
    "        while not is_solved(cube) and not any([move not in node[CHILDREN] for move in Move]):\n",
    "            move: Move = select_move(node, cp)\n",
    "            cube = cube.move(move)\n",
    "            node = node[CHILDREN][move]\n",
    "        # if node is not final and not every move has been explored, create a new node\n",
    "        if not is_solved(cube):\n",
    "            new_node: Node = init_node(node)\n",
    "            move: Move = choice([move for move in Move if move not in node[CHILDREN]])\n",
    "            node[CHILDREN][move] = new_node\n",
    "            cube = cube.move(move)\n",
    "            node = new_node\n",
    "        # simulate a random game\n",
    "        max_moves: int = 14\n",
    "        max_h: int = 0\n",
    "        while not is_solved(cube) and max_moves > 0:\n",
    "            new_node: Node = init_node(node)\n",
    "            move: Move = choice([move for move in Move])\n",
    "            node[CHILDREN][move] = new_node\n",
    "            cube = cube.move(move)\n",
    "            node = new_node\n",
    "            max_h = max(max_h, heuristic(cube))\n",
    "            max_moves -= 1\n",
    "        while node:\n",
    "            node[N] += 1\n",
    "            node[Q] += max_h\n",
    "            node = node[PARENT]\n",
    "    return tree\n",
    "\n",
    "def play_mtcs(cube: Cube, budget: int, cp: float, heuristic: Callable[[Cube], int]) -> list[Move]:\n",
    "    tree: Node = mcts(cube, budget, None, cp, heuristic)\n",
    "    node: Node = tree\n",
    "    path: list[Move] = []\n",
    "    while node and node[CHILDREN]:\n",
    "        move: Move = select_move(node, 0)\n",
    "        node = node[CHILDREN][move]\n",
    "        path.append(move)\n",
    "    return path"
   ]
  },
  {
   "cell_type": "markdown",
   "metadata": {},
   "source": [
    " # Test MTCS"
   ]
  },
  {
   "cell_type": "code",
   "execution_count": null,
   "metadata": {},
   "outputs": [],
   "source": [
    ""
   ]
  }
 ],
 "nbformat": 4,
 "nbformat_minor": 2,
 "metadata": {
  "language_info": {
   "codemirror_mode": {
    "name": "ipython",
    "version": 3
   },
   "file_extension": ".py",
   "mimetype": "text/x-python",
   "name": "python",
   "nbconvert_exporter": "python",
   "pygments_lexer": "ipython3",
   "version": 3
  }
 }
}