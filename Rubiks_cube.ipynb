{
 "cells": [
  {
   "cell_type": "code",
   "execution_count": null,
   "metadata": {},
   "outputs": [],
   "source": [
    "from pocket_cube.cube import Cube\n",
    "from pocket_cube.cube import Move\n",
    "import tests\n",
    "import numpy as np\n",
    "from heapq import heappush, heappop\n",
    "\n",
    "%matplotlib notebook\n",
    ""
   ]
  },
  {
   "cell_type": "markdown",
   "metadata": {},
   "source": [
    " # Tests"
   ]
  },
  {
   "cell_type": "code",
   "execution_count": null,
   "metadata": {},
   "outputs": [],
   "source": [
    "from typing import Callable\n",
    "\n",
    "test_list = [tests.case1, tests.case2, tests.case3, tests.case4]\n",
    "test_list = list(map(lambda t: list(map(Move.from_str, t.split(\" \"))), test_list))\n",
    "def test(algorithm: Callable[[Cube], list[Move]], tests: list[list[Move]]) -> bool:\n",
    "    for idx, test in enumerate(tests):\n",
    "        cube: Cube = Cube(test)\n",
    "        path: list[Move] = algorithm(cube)\n",
    "        for move in path:\n",
    "            cube = cube.move(move)\n",
    "        if not is_solved(cube):\n",
    "            print(f\"Test {idx} failed\")\n",
    "            break\n",
    "        else:\n",
    "            print(f\"Test {idx} passed\")"
   ]
  },
  {
   "cell_type": "markdown",
   "metadata": {},
   "source": [
    " # A*"
   ]
  },
  {
   "cell_type": "code",
   "execution_count": null,
   "metadata": {},
   "outputs": [],
   "source": [
    "def is_solved(cube: Cube) -> bool:\n",
    "    for i in range(len(cube.state)):\n",
    "        if cube.state[i] != cube.goal_state[i]:\n",
    "            return False\n",
    "    return True"
   ]
  },
  {
   "cell_type": "code",
   "execution_count": null,
   "metadata": {},
   "outputs": [],
   "source": [
    "def get_neighbors(cube: Cube) -> list[tuple[Cube, Move]]:\n",
    "    return [(cube.move(move), move) for move in Move]"
   ]
  },
  {
   "cell_type": "code",
   "execution_count": null,
   "metadata": {},
   "outputs": [],
   "source": [
    "def heuristic(cube: Cube) -> int:\n",
    "    return np.sum(cube.state != cube.goal_state)"
   ]
  },
  {
   "cell_type": "code",
   "execution_count": null,
   "metadata": {},
   "outputs": [],
   "source": [
    "def get_path(cube_hash: str, discovered: dict[str, tuple[str, Move, int]]) -> list[Move]:\n",
    "    path: list[Move] = []\n",
    "    currentNode = discovered[cube_hash]\n",
    "    while currentNode[0] is not None:\n",
    "        path.append(currentNode[1])\n",
    "        currentNode = discovered[currentNode[0]]\n",
    "    path.reverse()\n",
    "    return path"
   ]
  },
  {
   "cell_type": "code",
   "execution_count": null,
   "metadata": {},
   "outputs": [],
   "source": [
    "def a_star(cube: Cube) -> list[Move]:\n",
    "    # initialize with cube\n",
    "    frontier: list[tuple(int, str, Cube)] = []\n",
    "    heappush(frontier, (0 + heuristic(cube), cube.hash(), cube.clone()))\n",
    "    discovered: dict[str, tuple[str, Move, int]] = {cube.hash(): (None, None, 0)}\n",
    "    # search\n",
    "    while frontier:\n",
    "        currentCube: Cube = heappop(frontier)[2]\n",
    "        if is_solved(currentCube):\n",
    "            break\n",
    "        for (neighbor, move) in get_neighbors(currentCube):\n",
    "            score: int = discovered[currentCube.hash()][2] + 1\n",
    "            if neighbor.hash() not in discovered or score < discovered[neighbor.hash()][2]:\n",
    "                discovered[neighbor.hash()] = (currentCube.hash(), move, score)\n",
    "                node: tuple[int, str, Cube] = (score + heuristic(neighbor), neighbor.hash(), neighbor.clone())\n",
    "                heappush(frontier, node)\n",
    "    # get path\n",
    "    return get_path(currentCube.hash(), discovered)"
   ]
  },
  {
   "cell_type": "markdown",
   "metadata": {},
   "source": [
    " # Test A*"
   ]
  },
  {
   "cell_type": "code",
   "execution_count": null,
   "metadata": {},
   "outputs": [],
   "source": [
    "test(a_star, test_list)"
   ]
  },
  {
   "cell_type": "markdown",
   "metadata": {},
   "source": [
    " # Bidirectional BFS"
   ]
  },
  {
   "cell_type": "code",
   "execution_count": null,
   "metadata": {},
   "outputs": [],
   "source": [
    "def met_in_the_middle(cubes1: dict[str, tuple[Cube, Move, int]], cubes2: dict[str, tuple[Cube, Move, int]]) -> str:\n",
    "    for key in cubes1:\n",
    "        if key in cubes2:\n",
    "            return key\n",
    "    return None"
   ]
  },
  {
   "cell_type": "code",
   "execution_count": null,
   "metadata": {},
   "outputs": [],
   "source": [
    "from collections import deque\n",
    "\n",
    "def bidirectional_bfs(cube: Cube) -> list[Move]:\n",
    "    frontier1: deque[Cube] = deque()\n",
    "    frontier1.append(cube)\n",
    "    discovered1: dict[str, tuple[str, Move, int]] = {cube.hash(): (None, None, 0)}\n",
    "\n",
    "    solved_cube = cube.clone()\n",
    "    solved_cube.state = solved_cube.goal_state\n",
    "    frontier2: deque[Cube] = deque()\n",
    "    frontier2.append(solved_cube)\n",
    "    discovered2: dict[str, tuple[str, Move, int]] = {solved_cube.hash(): (None, None, 0)}\n",
    "\n",
    "    while frontier1 and frontier2:\n",
    "        met_cube_key: str = met_in_the_middle(discovered1, discovered2)\n",
    "        if met_cube_key is not None:\n",
    "            break\n",
    "        currentCube1: Cube = frontier1.popleft()\n",
    "        currentCube2: Cube = frontier2.popleft()\n",
    "        for (neighbor, move) in get_neighbors(currentCube1):\n",
    "            score: int = discovered1[currentCube1.hash()][2] + 1\n",
    "            if neighbor.hash() not in discovered1 or score < discovered1[neighbor.hash()][2]:\n",
    "                discovered1[neighbor.hash()] = (currentCube1.hash(), move, score)\n",
    "                frontier1.append(neighbor)\n",
    "        for (neighbor, move) in get_neighbors(currentCube2):\n",
    "            score: int = discovered2[currentCube2.hash()][2] + 1\n",
    "            if neighbor.hash() not in discovered2 or score < discovered2[neighbor.hash()][2]:\n",
    "                discovered2[neighbor.hash()] = (currentCube2.hash(), move, score)\n",
    "                frontier2.append(neighbor)\n",
    "    path1: list[Move] = get_path(met_cube_key, discovered1)\n",
    "    path2: list[Move] = get_path(met_cube_key, discovered2)\n",
    "    path2.reverse()\n",
    "    path2 = list(map(Move.opposite, path2))\n",
    "    return path1 + path2"
   ]
  },
  {
   "cell_type": "markdown",
   "metadata": {},
   "source": [
    " # Test Bidirectional BFS"
   ]
  },
  {
   "cell_type": "code",
   "execution_count": null,
   "metadata": {},
   "outputs": [],
   "source": [
    "test(bidirectional_bfs, test_list)"
   ]
  }
 ],
 "nbformat": 4,
 "nbformat_minor": 2,
 "metadata": {
  "language_info": {
   "codemirror_mode": {
    "name": "ipython",
    "version": 3
   },
   "file_extension": ".py",
   "mimetype": "text/x-python",
   "name": "python",
   "nbconvert_exporter": "python",
   "pygments_lexer": "ipython3",
   "version": 3
  }
 }
}